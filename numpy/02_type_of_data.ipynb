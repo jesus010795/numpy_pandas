{
 "cells": [
  {
   "cell_type": "code",
   "execution_count": 1,
   "metadata": {},
   "outputs": [
    {
     "data": {
      "text/plain": [
       "dtype('int64')"
      ]
     },
     "execution_count": 1,
     "metadata": {},
     "output_type": "execute_result"
    }
   ],
   "source": [
    "import numpy as np\n",
    "\n",
    "arr = np.array([1,2,3,4,5])\n",
    "arr.dtype"
   ]
  },
  {
   "cell_type": "markdown",
   "metadata": {},
   "source": [
    "# Tipos de datos en numpy\n",
    "\n",
    "Numpy ofrece una amplia gama de tipos de datos, siendo el tipo flotante el más comúnmente utilizado. Esto se debe a que resulta especialmente conveniente para integrarse con bibliotecas como TensorFlow o PyTorch, que son populares en el ámbito de las redes neuronales y el aprendizaje automático.\n",
    "\n",
    "Para esto definiremos el mismo array de arriba pero indicando que es flotante."
   ]
  },
  {
   "cell_type": "code",
   "execution_count": 2,
   "metadata": {},
   "outputs": [
    {
     "data": {
      "text/plain": [
       "dtype('float64')"
      ]
     },
     "execution_count": 2,
     "metadata": {},
     "output_type": "execute_result"
    }
   ],
   "source": [
    "arr = np.array([1,2,3,4,5], dtype='float64')\n",
    "arr.dtype"
   ]
  },
  {
   "cell_type": "markdown",
   "metadata": {},
   "source": [
    "## Convirtiendo un array de tipo entero a flotante\n",
    "\n",
    "Habrá ocasiones en las que recibiremos datos en formato entero y será necesario convertirlos a formato de punto flotante. Para lograrlo, utilizaremos el método astype, especificando el tipo de dato al que queremos convertirlos.\n",
    "\n",
    "Definiremos otro arreglo y realizaremos las operaciones sobre él."
   ]
  },
  {
   "cell_type": "code",
   "execution_count": 7,
   "metadata": {},
   "outputs": [
    {
     "data": {
      "text/plain": [
       "array([1, 2, 3, 4, 5])"
      ]
     },
     "execution_count": 7,
     "metadata": {},
     "output_type": "execute_result"
    }
   ],
   "source": [
    "new_arr = np.array([1,2,3,4,5])\n",
    "new_arr"
   ]
  },
  {
   "cell_type": "code",
   "execution_count": 9,
   "metadata": {},
   "outputs": [
    {
     "data": {
      "text/plain": [
       "array([1., 2., 3., 4., 5.])"
      ]
     },
     "execution_count": 9,
     "metadata": {},
     "output_type": "execute_result"
    }
   ],
   "source": [
    "new_arr = new_arr.astype(np.float64)\n",
    "new_arr"
   ]
  },
  {
   "cell_type": "markdown",
   "metadata": {},
   "source": [
    "## Convirtiendo de entero a booleano\n",
    "\n",
    "Vamos a modificar uno de nuestros arrays agregando un cero.\n",
    "\n",
    "En lógica booleana, el valor 0 siempre se considera falso, mientras que cualquier número igual o mayor a 1 se considera verdadero."
   ]
  },
  {
   "cell_type": "code",
   "execution_count": 10,
   "metadata": {},
   "outputs": [
    {
     "data": {
      "text/plain": [
       "array([False,  True,  True,  True,  True,  True, False])"
      ]
     },
     "execution_count": 10,
     "metadata": {},
     "output_type": "execute_result"
    }
   ],
   "source": [
    "new_arr = np.array([0,1,2,3,4,5,0])\n",
    "\n",
    "int_to_bool = new_arr.astype(np.bool_)\n",
    "int_to_bool"
   ]
  },
  {
   "cell_type": "markdown",
   "metadata": {},
   "source": [
    "## Convirtiendo de entero a string y viceversa"
   ]
  },
  {
   "cell_type": "code",
   "execution_count": 12,
   "metadata": {},
   "outputs": [
    {
     "data": {
      "text/plain": [
       "array([b'0', b'1', b'2', b'3', b'4', b'5', b'0'], dtype='|S21')"
      ]
     },
     "execution_count": 12,
     "metadata": {},
     "output_type": "execute_result"
    }
   ],
   "source": [
    "int_to_str = new_arr.astype(np.string_)\n",
    "int_to_str"
   ]
  },
  {
   "cell_type": "markdown",
   "metadata": {},
   "source": [
    "Al ejecutar el codigo nos devuelve una lista y nos indica el tipo de dato.\n",
    "\n",
    "Ahora realizaremos la operacion a la inversa, crearemos un array de strings y los convertiremos a enteros."
   ]
  },
  {
   "cell_type": "code",
   "execution_count": 13,
   "metadata": {},
   "outputs": [
    {
     "data": {
      "text/plain": [
       "array(['1', '2', '3'], dtype='<U1')"
      ]
     },
     "execution_count": 13,
     "metadata": {},
     "output_type": "execute_result"
    }
   ],
   "source": [
    "arr_str = np.array(['1','2','3'])\n",
    "arr_str"
   ]
  },
  {
   "cell_type": "code",
   "execution_count": 14,
   "metadata": {},
   "outputs": [
    {
     "data": {
      "text/plain": [
       "array([1, 2, 3], dtype=int8)"
      ]
     },
     "execution_count": 14,
     "metadata": {},
     "output_type": "execute_result"
    }
   ],
   "source": [
    "arr_str_to_int = arr_str.astype(np.int8)\n",
    "arr_str_to_int"
   ]
  },
  {
   "cell_type": "markdown",
   "metadata": {},
   "source": [
    "**El array de numpy solo puede tener un unico tipo de dato con el que va a trabar, no podemos tener la mitad del array en int y la otra mitad en float o bool, esto haria que pierda toda la optimizacion de numpy al momento de almacenar en memoria y trabajar con los distintos tipos de datos.**"
   ]
  }
 ],
 "metadata": {
  "kernelspec": {
   "display_name": "venv",
   "language": "python",
   "name": "python3"
  },
  "language_info": {
   "codemirror_mode": {
    "name": "ipython",
    "version": 3
   },
   "file_extension": ".py",
   "mimetype": "text/x-python",
   "name": "python",
   "nbconvert_exporter": "python",
   "pygments_lexer": "ipython3",
   "version": "3.10.12"
  }
 },
 "nbformat": 4,
 "nbformat_minor": 2
}
