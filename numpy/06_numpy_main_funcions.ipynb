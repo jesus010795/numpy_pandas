{
 "cells": [
  {
   "cell_type": "code",
   "execution_count": 3,
   "metadata": {},
   "outputs": [
    {
     "data": {
      "text/plain": [
       "array([10, 13, 13,  6, 17, 16,  6, 19,  3, 17])"
      ]
     },
     "execution_count": 3,
     "metadata": {},
     "output_type": "execute_result"
    }
   ],
   "source": [
    "import numpy as np\n",
    "\n",
    "arr = np.random.randint(1,20,10)\n",
    "arr"
   ]
  },
  {
   "cell_type": "code",
   "execution_count": 4,
   "metadata": {},
   "outputs": [
    {
     "data": {
      "text/plain": [
       "array([[10, 13, 13,  6, 17],\n",
       "       [16,  6, 19,  3, 17]])"
      ]
     },
     "execution_count": 4,
     "metadata": {},
     "output_type": "execute_result"
    }
   ],
   "source": [
    "matriz = arr.reshape(2,5)\n",
    "matriz"
   ]
  },
  {
   "cell_type": "markdown",
   "metadata": {},
   "source": [
    "# Funciones principales\n",
    "\n",
    "## max\n",
    "```max``` : Nos devuelve el numero mas grande dentro del array."
   ]
  },
  {
   "cell_type": "code",
   "execution_count": 6,
   "metadata": {},
   "outputs": [
    {
     "name": "stdout",
     "output_type": "stream",
     "text": [
      "19\n",
      "19\n"
     ]
    }
   ],
   "source": [
    "print(arr.max())\n",
    "print(matriz.max())\n"
   ]
  },
  {
   "cell_type": "markdown",
   "metadata": {},
   "source": [
    "> 💡 El eje 0 correpsonde a las columnas y el eje 1 a las filas "
   ]
  },
  {
   "cell_type": "markdown",
   "metadata": {},
   "source": [
    "La funcion max recibe como parametro un 0 o un 1, con lo cual indicamos que nos devuelva los valores mas altos ya sea por fila o por columnas"
   ]
  },
  {
   "cell_type": "code",
   "execution_count": 9,
   "metadata": {},
   "outputs": [
    {
     "data": {
      "text/plain": [
       "array([[10, 13, 13,  6, 17],\n",
       "       [16,  6, 19,  3, 17]])"
      ]
     },
     "execution_count": 9,
     "metadata": {},
     "output_type": "execute_result"
    }
   ],
   "source": [
    "matriz"
   ]
  },
  {
   "cell_type": "code",
   "execution_count": 8,
   "metadata": {},
   "outputs": [
    {
     "data": {
      "text/plain": [
       "array([17, 19])"
      ]
     },
     "execution_count": 8,
     "metadata": {},
     "output_type": "execute_result"
    }
   ],
   "source": [
    "# Valor mas alto por filas\n",
    "\n",
    "matriz.max(1)"
   ]
  },
  {
   "cell_type": "code",
   "execution_count": 11,
   "metadata": {},
   "outputs": [
    {
     "data": {
      "text/plain": [
       "array([16, 13, 19,  6, 17])"
      ]
     },
     "execution_count": 11,
     "metadata": {},
     "output_type": "execute_result"
    }
   ],
   "source": [
    "# Valor mas alto por columnas\n",
    "matriz.max(0)"
   ]
  },
  {
   "cell_type": "markdown",
   "metadata": {},
   "source": [
    "De esta manera podemos navegar por las diferentes dimensiones y matrices para obtener los beneficios de la funcion max."
   ]
  },
  {
   "cell_type": "markdown",
   "metadata": {},
   "source": [
    "## argmax\n",
    "\n",
    "Este es nos devuelve el indice en donde se encuentra el valor mas grande de nuestro array. "
   ]
  },
  {
   "cell_type": "code",
   "execution_count": 12,
   "metadata": {},
   "outputs": [
    {
     "data": {
      "text/plain": [
       "array([[10, 13, 13,  6, 17],\n",
       "       [16,  6, 19,  3, 17]])"
      ]
     },
     "execution_count": 12,
     "metadata": {},
     "output_type": "execute_result"
    }
   ],
   "source": [
    "matriz"
   ]
  },
  {
   "cell_type": "code",
   "execution_count": 14,
   "metadata": {},
   "outputs": [
    {
     "data": {
      "text/plain": [
       "7"
      ]
     },
     "execution_count": 14,
     "metadata": {},
     "output_type": "execute_result"
    }
   ],
   "source": [
    "arr.argmax()"
   ]
  },
  {
   "cell_type": "code",
   "execution_count": 13,
   "metadata": {},
   "outputs": [
    {
     "data": {
      "text/plain": [
       "7"
      ]
     },
     "execution_count": 13,
     "metadata": {},
     "output_type": "execute_result"
    }
   ],
   "source": [
    "matriz.argmax()"
   ]
  },
  {
   "cell_type": "markdown",
   "metadata": {},
   "source": [
    "En este caso solo nos muestra el de menor indice, no nos arroja las dos posiciones de la matriz"
   ]
  },
  {
   "cell_type": "markdown",
   "metadata": {},
   "source": [
    "## min\n",
    "\n",
    "Se comporta igual que max pero en este caso devolviendonos el valor minimo del array o matriz."
   ]
  },
  {
   "cell_type": "code",
   "execution_count": 17,
   "metadata": {},
   "outputs": [
    {
     "name": "stdout",
     "output_type": "stream",
     "text": [
      "3\n",
      "3\n",
      "[10  6 13  3 17]\n",
      "[6 3]\n"
     ]
    }
   ],
   "source": [
    "print(arr.min())\n",
    "print(matriz.min())\n",
    "print(matriz.min(0))\n",
    "print(matriz.min(1))\n"
   ]
  },
  {
   "cell_type": "markdown",
   "metadata": {},
   "source": [
    "## ptp (peak to peak)\n",
    "\n",
    "Se utiliza para calcular la diferencia entre el valor máximo y el valor mínimo de un array a lo largo de un eje especificado."
   ]
  },
  {
   "cell_type": "code",
   "execution_count": 19,
   "metadata": {},
   "outputs": [
    {
     "data": {
      "text/plain": [
       "array([10, 13, 13,  6, 17, 16,  6, 19,  3, 17])"
      ]
     },
     "execution_count": 19,
     "metadata": {},
     "output_type": "execute_result"
    }
   ],
   "source": [
    "arr"
   ]
  },
  {
   "cell_type": "code",
   "execution_count": 20,
   "metadata": {},
   "outputs": [
    {
     "data": {
      "text/plain": [
       "16"
      ]
     },
     "execution_count": 20,
     "metadata": {},
     "output_type": "execute_result"
    }
   ],
   "source": [
    "arr.ptp()"
   ]
  },
  {
   "cell_type": "markdown",
   "metadata": {},
   "source": [
    "En este caso nos devuelve la diferencia entre 19 y 3"
   ]
  },
  {
   "cell_type": "code",
   "execution_count": 24,
   "metadata": {},
   "outputs": [
    {
     "name": "stdout",
     "output_type": "stream",
     "text": [
      "[[10 13 13  6 17]\n",
      " [16  6 19  3 17]]\n",
      "16\n",
      "[6 7 6 3 0]\n",
      "[11 16]\n"
     ]
    }
   ],
   "source": [
    "print(matriz)\n",
    "print(matriz.ptp())\n",
    "print(matriz.ptp(0))\n",
    "print(matriz.ptp(1))"
   ]
  },
  {
   "cell_type": "markdown",
   "metadata": {},
   "source": [
    "**Sintaxis alternativa**\n",
    "\n",
    "```numpy.ptp(a, axis=None)```\n",
    "- ```a```: El array de NumPy del cual se calculará la diferencia entre el valor máximo y el valor mínimo.\n",
    "- ```axis``` (opcional): El eje a lo largo del cual se calculará la diferencia. Si se omite o se establece en None, se calculará la diferencia a lo largo de todo el array. Si se proporciona un valor, se calculará la diferencia a lo largo del eje especificado.\n"
   ]
  },
  {
   "cell_type": "markdown",
   "metadata": {},
   "source": [
    "## percentile\n",
    "\n",
    "\n",
    "Un percentil es una medida estadística que indica el valor por debajo del cual cae un porcentaje específico de observaciones en un conjunto de datos ordenado. Es una forma de dividir un conjunto de datos en partes iguales basadas en su distribución.\n",
    "\n",
    "Por ejemplo, el percentil 50 (también conocido como mediana) es el valor que separa al conjunto de datos en dos partes iguales: el 50% de los datos están por encima de este valor y el 50% están por debajo. De manera similar, el percentil 25 (primer cuartil) es el valor por debajo del cual cae el 25% de los datos, y el percentil 75 (tercer cuartil) es el valor por debajo del cual cae el 75% de los datos."
   ]
  }
 ],
 "metadata": {
  "kernelspec": {
   "display_name": "venv",
   "language": "python",
   "name": "python3"
  },
  "language_info": {
   "codemirror_mode": {
    "name": "ipython",
    "version": 3
   },
   "file_extension": ".py",
   "mimetype": "text/x-python",
   "name": "python",
   "nbconvert_exporter": "python",
   "pygments_lexer": "ipython3",
   "version": "3.10.12"
  }
 },
 "nbformat": 4,
 "nbformat_minor": 2
}
