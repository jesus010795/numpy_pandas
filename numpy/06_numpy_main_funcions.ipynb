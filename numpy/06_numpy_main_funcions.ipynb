{
 "cells": [
  {
   "cell_type": "code",
   "execution_count": 3,
   "metadata": {},
   "outputs": [
    {
     "data": {
      "text/plain": [
       "array([17, 19, 10,  5, 13, 19, 13,  1, 16, 12])"
      ]
     },
     "execution_count": 3,
     "metadata": {},
     "output_type": "execute_result"
    }
   ],
   "source": [
    "import numpy as np\n",
    "\n",
    "arr = np.random.randint(1,20,10)\n",
    "arr"
   ]
  },
  {
   "cell_type": "code",
   "execution_count": 4,
   "metadata": {},
   "outputs": [
    {
     "data": {
      "text/plain": [
       "array([[17, 19, 10,  5, 13],\n",
       "       [19, 13,  1, 16, 12]])"
      ]
     },
     "execution_count": 4,
     "metadata": {},
     "output_type": "execute_result"
    }
   ],
   "source": [
    "matriz = arr.reshape(2,5)\n",
    "matriz"
   ]
  },
  {
   "cell_type": "markdown",
   "metadata": {},
   "source": [
    "# Funciones principales\n",
    "\n",
    "## max\n",
    "```max``` : Nos devuelve el numero mas grande dentro del array."
   ]
  },
  {
   "cell_type": "code",
   "execution_count": 5,
   "metadata": {},
   "outputs": [
    {
     "name": "stdout",
     "output_type": "stream",
     "text": [
      "19\n",
      "19\n"
     ]
    }
   ],
   "source": [
    "print(arr.max())\n",
    "print(matriz.max())\n"
   ]
  },
  {
   "cell_type": "markdown",
   "metadata": {},
   "source": [
    "> 💡 El eje 0 correpsonde a las columnas y el eje 1 a las filas "
   ]
  },
  {
   "cell_type": "markdown",
   "metadata": {},
   "source": [
    "La funcion max recibe como parametro un 0 o un 1, con lo cual indicamos que nos devuelva los valores mas altos ya sea por fila o por columnas"
   ]
  },
  {
   "cell_type": "code",
   "execution_count": 9,
   "metadata": {},
   "outputs": [
    {
     "data": {
      "text/plain": [
       "array([[10, 13, 13,  6, 17],\n",
       "       [16,  6, 19,  3, 17]])"
      ]
     },
     "execution_count": 9,
     "metadata": {},
     "output_type": "execute_result"
    }
   ],
   "source": [
    "matriz"
   ]
  },
  {
   "cell_type": "code",
   "execution_count": 8,
   "metadata": {},
   "outputs": [
    {
     "data": {
      "text/plain": [
       "array([17, 19])"
      ]
     },
     "execution_count": 8,
     "metadata": {},
     "output_type": "execute_result"
    }
   ],
   "source": [
    "# Valor mas alto por filas\n",
    "\n",
    "matriz.max(1)"
   ]
  },
  {
   "cell_type": "code",
   "execution_count": 6,
   "metadata": {},
   "outputs": [
    {
     "data": {
      "text/plain": [
       "array([19, 19, 10, 16, 13])"
      ]
     },
     "execution_count": 6,
     "metadata": {},
     "output_type": "execute_result"
    }
   ],
   "source": [
    "# Valor mas alto por columnas\n",
    "matriz.max(0)"
   ]
  },
  {
   "cell_type": "markdown",
   "metadata": {},
   "source": [
    "De esta manera podemos navegar por las diferentes dimensiones y matrices para obtener los beneficios de la funcion max."
   ]
  },
  {
   "cell_type": "markdown",
   "metadata": {},
   "source": [
    "## argmax\n",
    "\n",
    "Este es nos devuelve el indice en donde se encuentra el valor mas grande de nuestro array. "
   ]
  },
  {
   "cell_type": "code",
   "execution_count": 12,
   "metadata": {},
   "outputs": [
    {
     "data": {
      "text/plain": [
       "array([[10, 13, 13,  6, 17],\n",
       "       [16,  6, 19,  3, 17]])"
      ]
     },
     "execution_count": 12,
     "metadata": {},
     "output_type": "execute_result"
    }
   ],
   "source": [
    "matriz"
   ]
  },
  {
   "cell_type": "code",
   "execution_count": 14,
   "metadata": {},
   "outputs": [
    {
     "data": {
      "text/plain": [
       "7"
      ]
     },
     "execution_count": 14,
     "metadata": {},
     "output_type": "execute_result"
    }
   ],
   "source": [
    "arr.argmax()"
   ]
  },
  {
   "cell_type": "code",
   "execution_count": 13,
   "metadata": {},
   "outputs": [
    {
     "data": {
      "text/plain": [
       "7"
      ]
     },
     "execution_count": 13,
     "metadata": {},
     "output_type": "execute_result"
    }
   ],
   "source": [
    "matriz.argmax()"
   ]
  },
  {
   "cell_type": "markdown",
   "metadata": {},
   "source": [
    "En este caso solo nos muestra el de menor indice, no nos arroja las dos posiciones de la matriz"
   ]
  },
  {
   "cell_type": "markdown",
   "metadata": {},
   "source": [
    "## min\n",
    "\n",
    "Se comporta igual que max pero en este caso devolviendonos el valor minimo del array o matriz."
   ]
  },
  {
   "cell_type": "code",
   "execution_count": 17,
   "metadata": {},
   "outputs": [
    {
     "name": "stdout",
     "output_type": "stream",
     "text": [
      "3\n",
      "3\n",
      "[10  6 13  3 17]\n",
      "[6 3]\n"
     ]
    }
   ],
   "source": [
    "print(arr.min())\n",
    "print(matriz.min())\n",
    "print(matriz.min(0))\n",
    "print(matriz.min(1))\n"
   ]
  },
  {
   "cell_type": "markdown",
   "metadata": {},
   "source": [
    "## ptp (peak to peak)\n",
    "\n",
    "Se utiliza para calcular la diferencia entre el valor máximo y el valor mínimo de un array a lo largo de un eje especificado."
   ]
  },
  {
   "cell_type": "code",
   "execution_count": 19,
   "metadata": {},
   "outputs": [
    {
     "data": {
      "text/plain": [
       "array([10, 13, 13,  6, 17, 16,  6, 19,  3, 17])"
      ]
     },
     "execution_count": 19,
     "metadata": {},
     "output_type": "execute_result"
    }
   ],
   "source": [
    "arr"
   ]
  },
  {
   "cell_type": "code",
   "execution_count": 20,
   "metadata": {},
   "outputs": [
    {
     "data": {
      "text/plain": [
       "16"
      ]
     },
     "execution_count": 20,
     "metadata": {},
     "output_type": "execute_result"
    }
   ],
   "source": [
    "arr.ptp()"
   ]
  },
  {
   "cell_type": "markdown",
   "metadata": {},
   "source": [
    "En este caso nos devuelve la diferencia entre 19 y 3"
   ]
  },
  {
   "cell_type": "code",
   "execution_count": 7,
   "metadata": {},
   "outputs": [
    {
     "name": "stdout",
     "output_type": "stream",
     "text": [
      "[[17 19 10  5 13]\n",
      " [19 13  1 16 12]]\n",
      "18\n",
      "[ 2  6  9 11  1]\n",
      "[14 18]\n"
     ]
    }
   ],
   "source": [
    "print(matriz)\n",
    "print(matriz.ptp())\n",
    "print(matriz.ptp(0))\n",
    "print(matriz.ptp(1))"
   ]
  },
  {
   "cell_type": "markdown",
   "metadata": {},
   "source": [
    "**Sintaxis alternativa**\n",
    "\n",
    "```numpy.ptp(a, axis=None)```\n",
    "- ```a```: El array de NumPy del cual se calculará la diferencia entre el valor máximo y el valor mínimo.\n",
    "- ```axis``` (opcional): El eje a lo largo del cual se calculará la diferencia. Si se omite o se establece en None, se calculará la diferencia a lo largo de todo el array. Si se proporciona un valor, se calculará la diferencia a lo largo del eje especificado.\n"
   ]
  },
  {
   "cell_type": "markdown",
   "metadata": {},
   "source": [
    "## percentile\n",
    "\n",
    "\n",
    "Un percentil es una medida estadística que indica el valor por debajo del cual cae un porcentaje específico de observaciones en un conjunto de datos ordenado. Es una forma de dividir un conjunto de datos en partes iguales basadas en su distribución.\n",
    "\n",
    "Por ejemplo, el percentil 50 (también conocido como mediana) es el valor que separa al conjunto de datos en dos partes iguales: el 50% de los datos están por encima de este valor y el 50% están por debajo. De manera similar, el percentil 25 (primer cuartil) es el valor por debajo del cual cae el 25% de los datos, y el percentil 75 (tercer cuartil) es el valor por debajo del cual cae el 75% de los datos."
   ]
  },
  {
   "cell_type": "code",
   "execution_count": 13,
   "metadata": {},
   "outputs": [
    {
     "name": "stdout",
     "output_type": "stream",
     "text": [
      "[[17 19 10  5 13]\n",
      " [19 13  1 16 12]]\n",
      "[17 19 10  5 13 19 13  1 16 12]\n"
     ]
    },
    {
     "data": {
      "text/plain": [
       "13.0"
      ]
     },
     "execution_count": 13,
     "metadata": {},
     "output_type": "execute_result"
    }
   ],
   "source": [
    "print(matriz)\n",
    "print(arr)\n",
    "np.percentile(matriz, 50)\n",
    "np.percentile(arr, 50)"
   ]
  },
  {
   "cell_type": "code",
   "execution_count": 14,
   "metadata": {},
   "outputs": [
    {
     "data": {
      "text/plain": [
       "1.0"
      ]
     },
     "execution_count": 14,
     "metadata": {},
     "output_type": "execute_result"
    }
   ],
   "source": [
    "np.percentile(arr, 0)"
   ]
  },
  {
   "cell_type": "markdown",
   "metadata": {},
   "source": [
    "Si ejecutamos percentil 0 nos arroja el numero ams bajo.\n",
    "Si ejecutamos percentile 100 nos arroja el numero mas alto."
   ]
  },
  {
   "cell_type": "markdown",
   "metadata": {},
   "source": [
    "## Sort\n",
    "\n",
    "La función `numpy.sort()` se utiliza para ordenar los elementos de un array."
   ]
  },
  {
   "cell_type": "code",
   "execution_count": 15,
   "metadata": {},
   "outputs": [
    {
     "name": "stdout",
     "output_type": "stream",
     "text": [
      "Array ordenado: [ 1  5 10 12 13 13 16 17 19 19]\n"
     ]
    }
   ],
   "source": [
    "sorted_array = np.sort(arr)\n",
    "print(\"Array ordenado:\", sorted_array)"
   ]
  },
  {
   "cell_type": "markdown",
   "metadata": {},
   "source": [
    "## mean\n",
    "\n",
    "La función `numpy.mean()` se utiliza para calcular la media (promedio) de los elementos de un array.\n"
   ]
  },
  {
   "cell_type": "code",
   "execution_count": 16,
   "metadata": {},
   "outputs": [
    {
     "name": "stdout",
     "output_type": "stream",
     "text": [
      "Media array: 12.5\n",
      "Media matriz: 12.5\n"
     ]
    }
   ],
   "source": [
    "media = np.mean(arr)\n",
    "media_matriz = np.mean(matriz)\n",
    "print(\"Media array:\", media)\n",
    "print(\"Media matriz:\", media_matriz)"
   ]
  },
  {
   "cell_type": "markdown",
   "metadata": {},
   "source": [
    "## std\n",
    "\n",
    "La función `numpy.std()` se utiliza para calcular la desviación estándar de los elementos de un array.\n",
    "\n",
    "En NumPy, la desviación estándar es una medida de la dispersión de los valores en un conjunto de datos. Se calcula como la raíz cuadrada de la varianza, que a su vez es la media de los cuadrados de las desviaciones de cada valor de la media.\n",
    "\n",
    "En otras palabras, la desviación estándar nos dice qué tan lejos, en promedio, se encuentran los valores del conjunto de datos de su valor medio. Un valor de desviación estándar bajo indica que los valores están agrupados cerca de la media, mientras que un valor alto indica que los valores están más dispersos."
   ]
  },
  {
   "cell_type": "code",
   "execution_count": 17,
   "metadata": {},
   "outputs": [
    {
     "name": "stdout",
     "output_type": "stream",
     "text": [
      "Desviación estándar: 5.5901699437494745\n"
     ]
    }
   ],
   "source": [
    "desviacion_estandar = np.std(arr)\n",
    "print(\"Desviación estándar:\", desviacion_estandar)"
   ]
  },
  {
   "cell_type": "markdown",
   "metadata": {},
   "source": [
    "La desviación estándar es una herramienta importante para analizar datos en NumPy. Se puede utilizar para comparar la dispersión de diferentes conjuntos de datos, para identificar valores atípicos y para construir modelos estadísticos."
   ]
  },
  {
   "cell_type": "markdown",
   "metadata": {},
   "source": [
    "## var\n",
    "\n",
    "La función `var()` de NumPy se utiliza para calcular la varianza de un array de datos. La varianza es una medida de la dispersión de los valores en un conjunto de datos. Se calcula como la media de los cuadrados de las desviaciones de cada valor de la media.\n",
    "\n",
    "La varianza nos dice qué tan lejos, en promedio, se encuentran los valores del conjunto de datos de su valor medio. Un valor de varianza bajo indica que los valores están agrupados cerca de la media, mientras que un valor alto indica que los valores están más dispersos."
   ]
  },
  {
   "cell_type": "markdown",
   "metadata": {},
   "source": [
    "La función `var()` tiene dos argumentos opcionales:\n",
    "\n",
    "- `axis`: El eje a lo largo del cual se calculará la varianza. Si no se especifica, la varianza se calculará sobre el array aplanado.\n",
    "- `ddof`: El número de grados de libertad. Este argumento se utiliza para ajustar el cálculo de la varianza para que no esté sesgado. El valor predeterminado es 0."
   ]
  },
  {
   "cell_type": "code",
   "execution_count": 18,
   "metadata": {},
   "outputs": [
    {
     "name": "stdout",
     "output_type": "stream",
     "text": [
      "Varianza: 31.25\n"
     ]
    }
   ],
   "source": [
    "varianza = np.var(arr)\n",
    "print(\"Varianza:\", varianza)"
   ]
  },
  {
   "cell_type": "markdown",
   "metadata": {},
   "source": [
    "La función `var()` toma un array como argumento y devuelve la varianza de los valores en el array. La varianza se calcula por defecto sobre el array aplanado, pero también se puede especificar un eje a lo largo del cual se calculará la varianza."
   ]
  },
  {
   "cell_type": "markdown",
   "metadata": {},
   "source": [
    "## Diferencia en varianza y desviacion estandar\n",
    "\n",
    "La varianza y la desviación estándar son dos medidas de dispersión estrechamente relacionadas, pero son distintas. La varianza se mide en unidades cuadradas, mientras que la desviación estándar se mide en las mismas unidades que los datos originales. Esto significa que la desviación estándar es más fácil de interpretar que la varianza.\n",
    "\n",
    "La desviación estándar se calcula como la raíz cuadrada de la varianza. En otras palabras, la desviación estándar nos dice qué tan lejos, en unidades originales, se encuentran los valores del conjunto de datos de su valor medio."
   ]
  },
  {
   "cell_type": "markdown",
   "metadata": {},
   "source": [
    "## concatenate()\n",
    "\n",
    "La función `concatenate()` de NumPy se utiliza para unir dos o más arrays a lo largo de un eje especificado. Es una herramienta fundamental para trabajar con arrays de diferentes formas y tamaños."
   ]
  },
  {
   "cell_type": "markdown",
   "metadata": {},
   "source": [
    "**Parámetros:**\n",
    "\n",
    "- `array1, array2`, ..., arrayN: Los arrays que se quieren unir. Deben tener la misma forma, excepto en la dimensión correspondiente al eje especificado.\n",
    "- `axis`: (Opcional) El eje a lo largo del cual se unirán los arrays. El valor predeterminado es 0, que significa que los arrays se unirán en la primera dimensión.\n",
    "- `out`: (Opcional) Un array de salida preexistente en el que se almacenará el resultado. Si no se especifica, se creará un nuevo array."
   ]
  },
  {
   "cell_type": "code",
   "execution_count": 25,
   "metadata": {},
   "outputs": [
    {
     "name": "stdout",
     "output_type": "stream",
     "text": [
      "[1 2 3 4 5] [8 7 9]\n"
     ]
    }
   ],
   "source": [
    "a = np.array([1,2,3,4,5])\n",
    "b = np.array([8,7,9])\n",
    "\n",
    "print(a, b)"
   ]
  },
  {
   "cell_type": "code",
   "execution_count": 28,
   "metadata": {},
   "outputs": [
    {
     "name": "stdout",
     "output_type": "stream",
     "text": [
      "[1 2 3 4 5 8 7 9]\n"
     ]
    }
   ],
   "source": [
    "array_concatenado = np.concatenate((a,b))\n",
    "print(array_concatenado)"
   ]
  },
  {
   "cell_type": "markdown",
   "metadata": {},
   "source": [
    "## expand_dims()\n",
    "\n",
    "La función `expand_dims()` de NumPy se utiliza para insertar una nueva dimensión en un array en un lugar específico. Esto puede ser útil para trabajar con arrays de diferentes formas y tamaños.\n",
    "\n",
    "- **Sintaxis**\n",
    "\n",
    "`np.expand_dims(array, axis)`\n",
    "\n",
    "- **Parámetros:**\n",
    "\n",
    "- `array`: El array al que se le quiere insertar una nueva dimensión.\n",
    "- `axis`: El eje en el que se insertará la nueva dimensión.\n"
   ]
  },
  {
   "cell_type": "code",
   "execution_count": 29,
   "metadata": {},
   "outputs": [
    {
     "name": "stdout",
     "output_type": "stream",
     "text": [
      "Array expandido: [[1 2 3]]\n",
      "Forma del array expandido: (1, 3)\n"
     ]
    }
   ],
   "source": [
    "array = np.array([1, 2, 3])\n",
    "expandido = np.expand_dims(array, axis=0)\n",
    "print(\"Array expandido:\", expandido)\n",
    "print(\"Forma del array expandido:\", expandido.shape)"
   ]
  },
  {
   "cell_type": "markdown",
   "metadata": {},
   "source": [
    "### Uso de expand_dims para concatenar\n",
    "\n",
    "Supongamos que queremos concatenar dos arrays unidimensionales como si fueran filas de una matriz bidimensional."
   ]
  },
  {
   "cell_type": "code",
   "execution_count": 30,
   "metadata": {},
   "outputs": [
    {
     "name": "stdout",
     "output_type": "stream",
     "text": [
      "Array concatenado:\n",
      " [[1 2 3]\n",
      " [4 5 6]]\n"
     ]
    }
   ],
   "source": [
    "array1 = np.array([1, 2, 3])\n",
    "array2 = np.array([4, 5, 6])\n",
    "\n",
    "# Expandir dimensiones para que ambos arrays sean 2D\n",
    "array1_expandido = np.expand_dims(array1, axis=0)\n",
    "array2_expandido = np.expand_dims(array2, axis=0)\n",
    "\n",
    "# Concatenar a lo largo del eje 0 (filas)\n",
    "concatenado = np.concatenate((array1_expandido, array2_expandido), axis=0)\n",
    "print(\"Array concatenado:\\n\", concatenado)"
   ]
  },
  {
   "cell_type": "markdown",
   "metadata": {},
   "source": [
    "***Ejemplo sin expand_dims***"
   ]
  },
  {
   "cell_type": "code",
   "execution_count": 32,
   "metadata": {},
   "outputs": [
    {
     "name": "stdout",
     "output_type": "stream",
     "text": [
      "Array concatenado: \n",
      " [1 2 3 4 5 6]\n"
     ]
    }
   ],
   "source": [
    "array1 = np.array([1, 2, 3])\n",
    "array2 = np.array([4, 5, 6])\n",
    "\n",
    "arr_concatenados = np.concatenate((array1, array2))\n",
    "print(\"Array concatenado: \\n\", arr_concatenados)"
   ]
  }
 ],
 "metadata": {
  "kernelspec": {
   "display_name": "venv",
   "language": "python",
   "name": "python3"
  },
  "language_info": {
   "codemirror_mode": {
    "name": "ipython",
    "version": 3
   },
   "file_extension": ".py",
   "mimetype": "text/x-python",
   "name": "python",
   "nbconvert_exporter": "python",
   "pygments_lexer": "ipython3",
   "version": "3.10.12"
  }
 },
 "nbformat": 4,
 "nbformat_minor": 2
}
