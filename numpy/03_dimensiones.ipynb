{
 "cells": [
  {
   "cell_type": "markdown",
   "metadata": {},
   "source": [
    "# Dimensiones\n",
    "\n",
    "Dentro del mundo de la ciencia de datos podemos tener multiples dimensiones y es importante detectarlas y saber como trabajar con ellas.\n",
    "\n",
    "## Tipos de dimensiones\n",
    "\n",
    "- Scalar: Es un término que se refiere a un valor único, es decir, un valor que no tiene dimensiones ni forma.\n",
    "- Vector: Es un tipo de dato en form de lista que puede llegar a alamacenar distintos valores. Al ser una lista de python consta de una unica dimension. En terminos mas simples un vector es una matriz unidimensional.\n",
    "- Matrix, Matriz: Es una estructura de datos formada por dos dimensiones, contiene datos y valores organizados en filas y columnas. Cada elemento contienen dos indices uno, que hace referencia a su fila y otro a su columna. Si lo pensamos en listas de python, seria similar a una lista de listas.\n",
    "- Tensor: Es un arreglo multidimensional con cualquier numero de dimensiones. \n",
    "    - Un tensor tridimensional podría representar un volumen de datos, como una pila de imágenes en 3D.\n",
    "    - Un tensor cuatridimensional podría representar una secuencia de volúmenes en 3D, como una secuencia de video.\n",
    "    > Lista de listas con listas en su interior [lista[de listas[con listas] ] ] \n"
   ]
  },
  {
   "cell_type": "markdown",
   "metadata": {},
   "source": [
    "<div>\n",
    "<p style = 'text-align:center;'>\n",
    "<img src=\"./img/dimensionesDatos.png\" alt=\"Dimensiones\" width=\"500px\">\n",
    "</p>\n",
    "</div>\n",
    "\n"
   ]
  },
  {
   "cell_type": "markdown",
   "metadata": {},
   "source": [
    "Crearemos unos ejemplos en diferentes dimensiones y por medio de la propiedad <code>.ndim</code> obtendremos el numero de dimensiones."
   ]
  },
  {
   "cell_type": "code",
   "execution_count": 3,
   "metadata": {},
   "outputs": [
    {
     "data": {
      "text/plain": [
       "0"
      ]
     },
     "execution_count": 3,
     "metadata": {},
     "output_type": "execute_result"
    }
   ],
   "source": [
    "import numpy as np\n",
    "\n",
    "scalar = np.array(21)\n",
    "scalar.ndim"
   ]
  },
  {
   "cell_type": "code",
   "execution_count": 4,
   "metadata": {},
   "outputs": [
    {
     "data": {
      "text/plain": [
       "1"
      ]
     },
     "execution_count": 4,
     "metadata": {},
     "output_type": "execute_result"
    }
   ],
   "source": [
    "scalar = np.array([1,2,3,4])\n",
    "scalar.ndim"
   ]
  },
  {
   "cell_type": "code",
   "execution_count": 6,
   "metadata": {},
   "outputs": [
    {
     "name": "stdout",
     "output_type": "stream",
     "text": [
      "[[ 1  2  3]\n",
      " [ 4  5  6]\n",
      " [ 2  3  4]\n",
      " [ 5  6  7]\n",
      " [19 24 34]]\n"
     ]
    },
    {
     "data": {
      "text/plain": [
       "2"
      ]
     },
     "execution_count": 6,
     "metadata": {},
     "output_type": "execute_result"
    }
   ],
   "source": [
    "matriz = np.array([[1,2,3],[4,5,6],[2,3,4],[5,6,7],[19,24,34]])\n",
    "print(matriz)\n",
    "matriz.ndim"
   ]
  },
  {
   "cell_type": "code",
   "execution_count": 10,
   "metadata": {},
   "outputs": [
    {
     "name": "stdout",
     "output_type": "stream",
     "text": [
      "[[[ 1  2  3]\n",
      "  [ 4  5  6]\n",
      "  [ 2  3  4]\n",
      "  [ 5  6  7]\n",
      "  [19 24 34]]\n",
      "\n",
      " [[ 1  2  3]\n",
      "  [ 4  5  6]\n",
      "  [ 2  3  4]\n",
      "  [ 5  6  7]\n",
      "  [19 24 34]]]\n"
     ]
    },
    {
     "data": {
      "text/plain": [
       "3"
      ]
     },
     "execution_count": 10,
     "metadata": {},
     "output_type": "execute_result"
    }
   ],
   "source": [
    "tensor = np.array([[[1,2,3],[4,5,6],[2,3,4],[5,6,7],[19,24,34]],[[1,2,3],[4,5,6],[2,3,4],[5,6,7],[19,24,34]]])\n",
    "print(tensor)\n",
    "tensor.ndim"
   ]
  },
  {
   "cell_type": "markdown",
   "metadata": {},
   "source": [
    "## Agregar o eliminar dimensiones\n",
    "\n",
    "### Agregar\n",
    "\n",
    "- Definiremos un vector sencillo al que le agregaremos la propiedad  ``ndmin`` que nos indica la cantidad minima de dimensiones.\n",
    "Al imprimirlo y al aplicarele el metodo ``ndim`` observaremos que a pesar de tratarse de un vector de una sola dimension, realmente numpy ya lo esta tratando como un arreglo multidimencional, limitando su tamano al numero que pasamos como parametro."
   ]
  },
  {
   "cell_type": "code",
   "execution_count": 11,
   "metadata": {},
   "outputs": [
    {
     "name": "stdout",
     "output_type": "stream",
     "text": [
      "[[[[[[[[[[1 2 3]]]]]]]]]]\n"
     ]
    },
    {
     "data": {
      "text/plain": [
       "10"
      ]
     },
     "execution_count": 11,
     "metadata": {},
     "output_type": "execute_result"
    }
   ],
   "source": [
    "new_array = np.array([1,2,3], ndmin=10)\n",
    "print(new_array)\n",
    "new_array.ndim"
   ]
  },
  {
   "cell_type": "markdown",
   "metadata": {},
   "source": [
    "- Agregaremos dimensiones a un vector previamente definido de una sola dimension.\n",
    "    - Utilizaremos un metodo de numpy llamado ``.expand_dims``, literalmente expandira sus dimensiones al array que se le aplique.\n",
    "    - Recibe como primer parametro el array a expandir.\n",
    "    - Como segundo parametro indicamos el axis a expandir. En numpy y en python el  ***axis 0 hace referencia a las filas***, mientras que el ***axis 1 a las columnas*** "
   ]
  },
  {
   "cell_type": "code",
   "execution_count": 12,
   "metadata": {},
   "outputs": [
    {
     "name": "stdout",
     "output_type": "stream",
     "text": [
      "[1 2 3]\n"
     ]
    },
    {
     "data": {
      "text/plain": [
       "1"
      ]
     },
     "execution_count": 12,
     "metadata": {},
     "output_type": "execute_result"
    }
   ],
   "source": [
    "array_uni = np.array([1,2,3])\n",
    "print(array_uni)\n",
    "array_uni.ndim"
   ]
  },
  {
   "cell_type": "markdown",
   "metadata": {},
   "source": [
    "Este metodo se puede aplicar a cualquier array tanto en el 0 como en el eje 1"
   ]
  },
  {
   "cell_type": "code",
   "execution_count": 13,
   "metadata": {},
   "outputs": [
    {
     "name": "stdout",
     "output_type": "stream",
     "text": [
      "[[1 2 3]]\n"
     ]
    },
    {
     "data": {
      "text/plain": [
       "2"
      ]
     },
     "execution_count": 13,
     "metadata": {},
     "output_type": "execute_result"
    }
   ],
   "source": [
    "expand_vec = np.expand_dims(array_uni, axis=0)\n",
    "print(expand_vec)\n",
    "expand_vec.ndim"
   ]
  },
  {
   "cell_type": "markdown",
   "metadata": {},
   "source": [
    "### Eliminar\n",
    "\n",
    "- squeeze: Este metodo comprime el numero de dimensiones de un vector al numero correcto que se esta utilizando.\n",
    "    - Recibe como primer parametro el array a reducir\n",
    "    - Como segundo parametro ``axis`` (opcional): Especifica los ejes a los cuales aplicar el squeeze. Si se proporciona, solo se eliminarán las dimensiones de tamaño 1 en los ejes especificados. Si no se proporciona, se eliminarán todas las dimensiones de tamaño 1.\n",
    "\n",
    "    En este ejemplo definimos nuestro vector con 10 dimensiones pero solo se esta utilizando una dimension, por tanto sera reducido a las dimensiones que se utilizan."
   ]
  },
  {
   "cell_type": "code",
   "execution_count": 14,
   "metadata": {},
   "outputs": [
    {
     "name": "stdout",
     "output_type": "stream",
     "text": [
      "[[[[[[[[[[1 2 3]]]]]]]]]]\n",
      "[1 2 3]\n"
     ]
    },
    {
     "data": {
      "text/plain": [
       "1"
      ]
     },
     "execution_count": 14,
     "metadata": {},
     "output_type": "execute_result"
    }
   ],
   "source": [
    "print(new_array)\n",
    "new_vector = np.squeeze(new_array)\n",
    "print(new_vector)\n",
    "new_vector.ndim"
   ]
  }
 ],
 "metadata": {
  "kernelspec": {
   "display_name": "venv",
   "language": "python",
   "name": "python3"
  },
  "language_info": {
   "codemirror_mode": {
    "name": "ipython",
    "version": 3
   },
   "file_extension": ".py",
   "mimetype": "text/x-python",
   "name": "python",
   "nbconvert_exporter": "python",
   "pygments_lexer": "ipython3",
   "version": "3.10.12"
  }
 },
 "nbformat": 4,
 "nbformat_minor": 2
}
