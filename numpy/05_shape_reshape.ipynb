{
 "cells": [
  {
   "cell_type": "code",
   "execution_count": null,
   "metadata": {},
   "outputs": [],
   "source": [
    "import numpy as np"
   ]
  },
  {
   "cell_type": "markdown",
   "metadata": {},
   "source": [
    "# Shape - reshape\n",
    "\n",
    "En Numpy, shape y reshape son atributos y métodos que se utilizan para manipular la forma (dimensiones y tamaño) de los arrays.\n",
    "\n",
    "## Shape\n",
    "\n",
    "shape:\n",
    "- Atributo: En Numpy, shape es un atributo de los arrays que devuelve una tupla que describe la forma del array, es decir, el número de elementos en cada dimensión.\n",
    "- Uso: Puedes acceder al atributo shape de un array para obtener información sobre sus dimensiones. \n",
    "\n"
   ]
  },
  {
   "cell_type": "code",
   "execution_count": 6,
   "metadata": {},
   "outputs": [
    {
     "data": {
      "text/plain": [
       "array([[7, 4],\n",
       "       [6, 4],\n",
       "       [1, 8]])"
      ]
     },
     "execution_count": 6,
     "metadata": {},
     "output_type": "execute_result"
    }
   ],
   "source": [
    "\n",
    "arr = np.random.randint(1,10,(3,2))\n",
    "arr"
   ]
  },
  {
   "cell_type": "markdown",
   "metadata": {},
   "source": [
    "Si tomamos el array que acabamos de crear y aplicamos la propiedad shape, nos va a arrojar exactamente la estructura con la que lo definimos.\n",
    "Shape nos indica cuantas filas y cuantas columnas, si aplicamos esta propiedad a un tensor nos indicara las dimensiones filas y columnas que conforman a este."
   ]
  },
  {
   "cell_type": "code",
   "execution_count": 7,
   "metadata": {},
   "outputs": [
    {
     "data": {
      "text/plain": [
       "(3, 2)"
      ]
     },
     "execution_count": 7,
     "metadata": {},
     "output_type": "execute_result"
    }
   ],
   "source": [
    "arr.shape"
   ]
  },
  {
   "cell_type": "markdown",
   "metadata": {},
   "source": [
    "## reshape\n",
    "\n",
    "- Método: En Numpy, reshape es un método que se utiliza para cambiar la forma de un array, es decir, reorganizar sus elementos en una nueva forma sin cambiar su contenido.\n",
    "- Uso: Puedes utilizar el método reshape() para cambiar la forma de un array, especificando las nuevas dimensiones deseadas.\n",
    "\n",
    "**Recibe los siguientes parametros**\n",
    "\n",
    "- nueva forma (newshape): Este parámetro es obligatorio y especifica la nueva forma que se desea para el array. Puede ser un entero o una tupla de enteros que representan las dimensiones del nuevo array. Por ejemplo:\n",
    "    - Un solo entero: Si se proporciona un solo entero, el array se remodelará en un array unidimensional de ese tamaño.\n",
    "    - Tupla de enteros: Si se proporciona una tupla de enteros, cada entero representa el tamaño de cada dimensión del nuevo array.\n",
    "- orden (order): (Opcional) Este parámetro especifica el orden en el que se deben leer los elementos del array original para reorganizarlos en el nuevo array. \n",
    "\n",
    "Reshape es un comando que nos cambia la forma en la que esta establecido un array. Esto es muy utyil por que muchas veces nuestro software es entrenado con una forma especifica y en ocasiones sera necesario aplicar este metodo para despues ser analizado."
   ]
  },
  {
   "cell_type": "code",
   "execution_count": 8,
   "metadata": {},
   "outputs": [
    {
     "data": {
      "text/plain": [
       "array([[7, 4, 6, 4, 1, 8]])"
      ]
     },
     "execution_count": 8,
     "metadata": {},
     "output_type": "execute_result"
    }
   ],
   "source": [
    "arr.reshape(1,6)"
   ]
  },
  {
   "cell_type": "code",
   "execution_count": 9,
   "metadata": {},
   "outputs": [
    {
     "data": {
      "text/plain": [
       "array([[7, 4, 6],\n",
       "       [4, 1, 8]])"
      ]
     },
     "execution_count": 9,
     "metadata": {},
     "output_type": "execute_result"
    }
   ],
   "source": [
    "arr.reshape(2,3)"
   ]
  },
  {
   "cell_type": "markdown",
   "metadata": {},
   "source": [
    "### Ordenacion al hacer reshape\n",
    "\n",
    "Podemos ejecutar  shape como metodo desde numpy sin necesidad de aplicarlo con notacion de puntos sobre el array. \n",
    "De esta forma podemos pasar mas parametros como la ordenacion.\n",
    "Como primer parametro indicamos el array que se reformara, como segundo, la nueva forma y comom tecero el orden .\n",
    "Puede ser 'C' (por defecto) para ordenar por filas (row-major) o 'F' para ordenar por columnas (column-major). Este parámetro es útil principalmente cuando se trata de arrays multidimensionales."
   ]
  },
  {
   "cell_type": "code",
   "execution_count": 10,
   "metadata": {},
   "outputs": [
    {
     "data": {
      "text/plain": [
       "array([[7, 4],\n",
       "       [6, 4],\n",
       "       [1, 8]])"
      ]
     },
     "execution_count": 10,
     "metadata": {},
     "output_type": "execute_result"
    }
   ],
   "source": [
    "# Array original.\n",
    "arr"
   ]
  },
  {
   "cell_type": "code",
   "execution_count": 12,
   "metadata": {},
   "outputs": [
    {
     "data": {
      "text/plain": [
       "array([[7, 4, 6],\n",
       "       [4, 1, 8]])"
      ]
     },
     "execution_count": 12,
     "metadata": {},
     "output_type": "execute_result"
    }
   ],
   "source": [
    "np.reshape(arr, (2,3), 'C')"
   ]
  }
 ],
 "metadata": {
  "kernelspec": {
   "display_name": "venv",
   "language": "python",
   "name": "python3"
  },
  "language_info": {
   "codemirror_mode": {
    "name": "ipython",
    "version": 3
   },
   "file_extension": ".py",
   "mimetype": "text/x-python",
   "name": "python",
   "nbconvert_exporter": "python",
   "pygments_lexer": "ipython3",
   "version": "3.10.12"
  }
 },
 "nbformat": 4,
 "nbformat_minor": 2
}
